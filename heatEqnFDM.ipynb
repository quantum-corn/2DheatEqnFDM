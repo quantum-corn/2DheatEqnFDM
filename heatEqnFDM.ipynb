{
  "cells": [
    {
      "cell_type": "markdown",
      "source": [
        "# Solution of the heat equation with the FDM\n",
        "\n",
        "$$u_t=c^2\\nabla^2u:0<x<a,\\ 0<y<b$$\n",
        "\n",
        "---\n",
        "### Let's import the required packages first of all."
      ],
      "metadata": {
        "nteract": {
          "transient": {
            "deleting": false
          }
        }
      }
    },
    {
      "cell_type": "code",
      "source": [
        "import numpy as np\n",
        "import matplotlib.pyplot as plt\n",
        "import matplotlib.animation as ani"
      ],
      "outputs": [],
      "execution_count": null,
      "metadata": {
        "collapsed": true,
        "jupyter": {
          "source_hidden": false,
          "outputs_hidden": false
        },
        "nteract": {
          "transient": {
            "deleting": false
          }
        }
      }
    },
    {
      "cell_type": "markdown",
      "source": [
        "---\n",
        "### Before we get on with the problem at hand, let's make our life easier by defining function for frequent tasks.\n",
        "\n",
        "First of all let's create the toplevel function to wrap everything. It all the data creates a grid, does the computation and creates and saves the visualization. The fuction takes:\n",
        "- boundary conditions (a 4 $\\times$ 2, array-like where each row has the boundary type (`dirichlet` or `neumann` [these are keywords]), and corresponding value (temperature for dirichlet and temperature derivative for neumann) in the top, right, bottom, left sequence),\n",
        "- type of analysis to be performed (`steady` or `transient` [these are keywords]),\n",
        "- the system dimensions (a 1$\\times2$ array-like that has the length of the 2-D system being considered for analysis in the order x, y),\n",
        "- resolution (a 1 $\\times$ 2 array-like where each number is the number of computational sub-intervals to add for unit physical length of the system along the corresponding dimension in the sequence x, y),\n",
        "- the value of $c^2$ as appears in the original differential equation at the top of this documentation (optional, not needed for steady-state analysis, default is 0.005),\n",
        "- the time for which the computation needs to be done for transient analysis (optional, not needed for steady-state analysis, defaults to 60),\n",
        "- the time resolution i.e. the number of sub-intervas to compute per unit of time (optional, not needed for steady state analysis, defaults to 2),\n",
        "- accuracy to which to compute the data (optional, not needed for transient-state analysis, defaults to 0.1),\n",
        "- the name of the file to save the generated visual as (optional, defaults to `analysis.gif`),\n",
        "- interval through which each frame in the visual lasts (optional, not needed for steady state analysis, defaults to 200 ms)."
      ],
      "metadata": {
        "nteract": {
          "transient": {
            "deleting": false
          }
        }
      }
    },
    {
      "cell_type": "code",
      "source": [
        "def analyze(bound, type, sys_scale, res, c=0.005, t=60, tres=2, accuracy=0.1,\n",
        "            name=\"analysis.gif\", interval=200):\n",
        "    res+=[tres]\n",
        "    u=np.zeros((sys_scale[1]*res[1]+1,sys_scale[0]*res[0]+1,t*res[2]+1))\n",
        "    calculate(bound, type, u, c, res, accuracy)\n",
        "    visualize(type, u, name , inv)"
      ],
      "outputs": [],
      "execution_count": null,
      "metadata": {
        "collapsed": true,
        "jupyter": {
          "source_hidden": false,
          "outputs_hidden": false
        },
        "nteract": {
          "transient": {
            "deleting": false
          }
        }
      }
    },
    {
      "cell_type": "markdown",
      "source": [
        "---\n",
        "Now, let's create a function that will create visualization of the data. The function takes:\n",
        "- type of analysis to be performed (`steady` or `transient` [these are keywords]),\n",
        "- the dataset (a 3D array-like in the indexing order `arr[y][x][t]`, the time index is not relevant for steady-state analysis, in which case the t=0 data is plotted),\n",
        "- the name of the file to save the generated visual as,\n",
        "- interval through which each frame in the visual lasts."
      ],
      "metadata": {
        "nteract": {
          "transient": {
            "deleting": false
          }
        }
      }
    },
    {
      "cell_type": "code",
      "source": [
        "def visualize(type, u, name, inv):\n",
        "    if (type is steady):\n",
        "        f=plot(0, u)\n",
        "        f.savefig(name)\n",
        "    else:\n",
        "        animate(plot, u, u.shape[2], name, inv)"
      ],
      "outputs": [],
      "execution_count": null,
      "metadata": {
        "collapsed": true,
        "jupyter": {
          "source_hidden": false,
          "outputs_hidden": false
        },
        "nteract": {
          "transient": {
            "deleting": false
          }
        }
      }
    },
    {
      "cell_type": "markdown",
      "source": [
        "---\n",
        "The function to plot thermal map contours. The function takes:\n",
        "- the time index value in the 3D dataset,\n",
        "- the dataset (a 3D array-like in the indexing order `arr[y][x][t]`)."
      ],
      "metadata": {
        "nteract": {
          "transient": {
            "deleting": false
          }
        }
      }
    },
    {
      "cell_type": "code",
      "source": [
        "def plot(t, u):\n",
        "    plt.clf()\n",
        "    plt.contourf(u[:,:,t], cmap=plt.cm.jet)\n",
        "    plt.colorbar()\n",
        "    return plt"
      ],
      "outputs": [],
      "execution_count": null,
      "metadata": {
        "collapsed": true,
        "jupyter": {
          "source_hidden": false,
          "outputs_hidden": false
        },
        "nteract": {
          "transient": {
            "deleting": false
          }
        }
      }
    },
    {
      "cell_type": "markdown",
      "source": [
        "---\n",
        "The function to animate our plots. The function takes:\n",
        "- the function responsible for creating each frame,\n",
        "- the dataset (a 3D array-like in the indexing order `arr[y][x][t]`),\n",
        "- number of frames to add in the animation,\n",
        "- the name of the file to save the generated visual as,\n",
        "- interval through which each frame in the visual lasts."
      ],
      "metadata": {
        "nteract": {
          "transient": {
            "deleting": false
          }
        }
      }
    },
    {
      "cell_type": "code",
      "source": [
        "def animate(plot, u, f, name, inv):\n",
        "    anim=ani.FuncAnimation(plt.figure(), plot, frames=f, fargs=(u,), interval=inv)\n",
        "    anim.save(name)"
      ],
      "outputs": [],
      "execution_count": null,
      "metadata": {
        "collapsed": true,
        "jupyter": {
          "source_hidden": false,
          "outputs_hidden": false
        },
        "nteract": {
          "transient": {
            "deleting": false
          }
        }
      }
    },
    {
      "cell_type": "markdown",
      "source": [
        "---\n",
        "The toplevel function that wraps all computation operations. The function takes:\n",
        "- boundary conditions (a 4 $\\times$ 2, array-like where each row has the boundary type (`dirichlet` or `neumann` [these are keywords]), and corresponding value (temperature for dirichlet and temperature derivative for neumann) in the top, right, bottom, left sequence),\n",
        "- type of analysis to be performed (`steady` or `transient` [these are keywords]),\n",
        "- the dataset (a 3D array-like in the indexing order `arr[y][x][t]`, the time index is not relevant for steady-state analysis, in which case the time dimension is used to compare successive accuracy improvement),\n",
        "- the value of $c^2$ as appears in the original differential equation at the top of this documentation,\n",
        "- resolution (a 1 $\\times$ 3 array-like where each number is the number of computational sub-intervals to add for unit physical length of the system along the corresponding dimension in the sequence x, y, t),\n",
        "- accuracy to which to compute the data."
      ],
      "metadata": {
        "nteract": {
          "transient": {
            "deleting": false
          }
        }
      }
    },
    {
      "cell_type": "code",
      "source": [
        "def calculate(bound, type, u, c, res, acc):\n",
        "    if(type is steady):\n",
        "        std(bound, u, acc)\n",
        "    if(type is transient):\n",
        "        trans(bound, u, c, res)"
      ],
      "outputs": [],
      "execution_count": null,
      "metadata": {
        "collapsed": true,
        "jupyter": {
          "source_hidden": false,
          "outputs_hidden": false
        },
        "nteract": {
          "transient": {
            "deleting": false
          }
        }
      }
    },
    {
      "cell_type": "markdown",
      "source": [
        "---\n",
        "The function to manage the steady state computation. The function takes:\n",
        "- boundary conditions (a 4 $\\times$ 2, array-like where each row has the boundary type (`dirichlet` or `neumann` [these are keywords]), and corresponding value (temperature for dirichlet and temperature derivative for neumann) in the top, right, bottom, left sequence),\n",
        "- the dataset (a 3D array-like in the indexing order `arr[y][x][t]`, the time index is used to compare successive accuracy improvement),\n",
        "- accuracy to which to compute the data."
      ],
      "metadata": {
        "nteract": {
          "transient": {
            "deleting": false
          }
        }
      }
    },
    {
      "cell_type": "code",
      "source": [
        "def std(bound, u, acc):\n",
        "    k=1\n",
        "    while(k):\n",
        "        grid_fill(bound, steady, 0, u)\n",
        "        if(np.all(abs(u[:,:,1]-u[:,:,0])<=acc)):\n",
        "            k=0\n",
        "        u[:,:,0]=u[:,:,1]"
      ],
      "outputs": [],
      "execution_count": null,
      "metadata": {
        "collapsed": true,
        "jupyter": {
          "source_hidden": false,
          "outputs_hidden": false
        },
        "nteract": {
          "transient": {
            "deleting": false
          }
        }
      }
    },
    {
      "cell_type": "markdown",
      "source": [
        "---\n",
        "The function to manage transient state computation. The function takes:\n",
        "- boundary conditions (a 4 $\\times$ 2, array-like where each row has the boundary type (`dirichlet` or `neumann` [these are keywords]), and corresponding value (temperature for dirichlet and temperature derivative for neumann) in the top, right, bottom, left sequence),\n",
        "- the dataset (a 3D array-like in the indexing order `arr[y][x][t]`),\n",
        "- the value of $c^2$ as appears in the original differential equation at the top of this documentation,\n",
        "- resolution (a 1 $\\times$ 3 array-like where each number is the number of computational sub-intervals to add for unit physical length of the system along the corresponding dimension in the sequence x, y, t)."
      ],
      "metadata": {
        "nteract": {
          "transient": {
            "deleting": false
          }
        }
      }
    },
    {
      "cell_type": "code",
      "source": [
        "def trans(bound, u, c_2, res):\n",
        "    for t in range(u.shape[2]-1):\n",
        "        grid_fill(bound, transient, t, u, c_2, res)"
      ],
      "outputs": [],
      "execution_count": null,
      "metadata": {
        "collapsed": true,
        "jupyter": {
          "source_hidden": false,
          "outputs_hidden": false
        },
        "nteract": {
          "transient": {
            "deleting": false
          }
        }
      }
    },
    {
      "cell_type": "markdown",
      "source": [
        "---\n",
        "A function to loop through our dataset manage calculations. The function takes:\n",
        "- boundary conditions (a 4 $\\times$ 2, array-like where each row has the boundary type (`dirichlet` or `neumann` [these are keywords]), and corresponding value (temperature for dirichlet and temperature derivative for neumann) in the top, right, bottom, left sequence),\n",
        "- type of analysis to be performed (`steady` or `transient` [these are keywords]),\n",
        "- the value of time index at which to fill the dataset with computed values,\n",
        "- the dataset (a 3D array-like in the indexing order `arr[y][x][t]`),\n",
        "- the value of $c^2$ as appears in the original differential equation at the top of this documentation, (optional defaults to 0.005),\n",
        "- resolution (a 1 $\\times$ 3 array-like where each number is the number of computational sub-intervals to add for unit physical length of the system along the corresponding dimension in the sequence x, y, t, optional, defaults to `[1,1,1]`)."
      ],
      "metadata": {
        "nteract": {
          "transient": {
            "deleting": false
          }
        }
      }
    },
    {
      "cell_type": "code",
      "source": [
        "def grid_fill(bound, type, t, u, c_2=0.005, res=[1,1,1]):\n",
        "        for y in range(0, u.shape[0]):\n",
        "            for x in range(0, u.shape[1]):\n",
        "                ev=edge(u, x,y)\n",
        "                if(ev!=-1):\n",
        "                    bound[ev][0](bound[ev][1], type, u, x, y, t, c_2, res)\n",
        "                else:\n",
        "                    type(u, x, y, t, c_2, res, xp=u[y][x+1][t], xm=u[y][x-1][t],\n",
        "                    yp=u[y+1][x][t], ym=u[y-1][x][t])"
      ],
      "outputs": [],
      "execution_count": null,
      "metadata": {
        "collapsed": true,
        "jupyter": {
          "source_hidden": false,
          "outputs_hidden": false
        },
        "nteract": {
          "transient": {
            "deleting": false
          }
        }
      }
    },
    {
      "cell_type": "markdown",
      "source": [
        "---\n",
        "The function to determine whether a grid point is a boundary point. The function takes:\n",
        "- the dataset (a 3D array-like in the indexing order `arr[y][x][t]`),\n",
        "- the x co-ordinate,\n",
        "- the y co-ordinate."
      ],
      "metadata": {
        "nteract": {
          "transient": {
            "deleting": false
          }
        }
      }
    },
    {
      "cell_type": "code",
      "source": [
        "def edge(u, x, y):\n",
        "    if (y== u.shape[0]-1 and x != 0):\n",
        "        return 0\n",
        "    elif (x== u.shape[1]-1 and y!=u.shape[0]-1):\n",
        "        return 1\n",
        "    elif (y==0 and x!=u.shape[1]-1):\n",
        "        return 2\n",
        "    elif (x==0 and y != 0):\n",
        "        return 3\n",
        "    else:\n",
        "        return -1"
      ],
      "outputs": [],
      "execution_count": null,
      "metadata": {
        "collapsed": true,
        "jupyter": {
          "source_hidden": false,
          "outputs_hidden": false
        },
        "nteract": {
          "transient": {
            "deleting": false
          }
        }
      }
    },
    {
      "cell_type": "markdown",
      "source": [
        "---\n",
        "The function to determine whether a grid point is a corner point. The function takes:\n",
        "- the dataset (a 3D array-like in the indexing order `arr[y][x][t]`),\n",
        "- the x co-ordinate,\n",
        "- the y co-ordinate."
      ],
      "metadata": {
        "nteract": {
          "transient": {
            "deleting": false
          }
        }
      }
    },
    {
      "cell_type": "code",
      "source": [
        "def corner(u, x, y):\n",
        "    if (y== u.shape[0]-1 and x == 0):\n",
        "        return 3\n",
        "    elif (x== u.shape[1]-1 and y==u.shape[0]-1):\n",
        "        return 0\n",
        "    elif (y==0 and x==u.shape[1]-1):\n",
        "        return 1\n",
        "    elif (x==0 and y == 0):\n",
        "        return 2\n",
        "    else:\n",
        "        return -1"
      ],
      "outputs": [],
      "execution_count": null,
      "metadata": {
        "collapsed": true,
        "jupyter": {
          "source_hidden": false,
          "outputs_hidden": false
        },
        "nteract": {
          "transient": {
            "deleting": false
          }
        }
      }
    },
    {
      "cell_type": "markdown",
      "source": [
        "---\n",
        "\n",
        "---\n",
        "### Now let's define our boundary conditions.\n",
        "\n",
        "For Dirichlet's boundary condition we have the data values given at boundaries at all times. The function takes:\n",
        "- the value of the temperature at the boundary,\n",
        "- type of analysis to be performed (`steady` or `transient` [these are keywords], not needed except for syntactical consistency),\n",
        "- the dataset (a 3D array-like in the indexing order `arr[y][x][t]`),\n",
        "- the x co-ordinate of the grid point in consideration,\n",
        "- the y co-ordinate of the grid point in consideration,\n",
        "- the t co-ordinate of the grid point in consideration(not needed except for syntactical consistency),\n",
        "- the value of $c^2$ as appears in the original differential equation at the top of this documentation, (not needed except for syntactical consistency),\n",
        "- resolution (a 1 $\\times$ 3 array-like where each number is the number of computational sub-intervals to add for unit physical length of the system along the corresponding dimension in the sequence x, y, t, not needed except for syntactical consistency)."
      ],
      "metadata": {
        "nteract": {
          "transient": {
            "deleting": false
          }
        }
      }
    },
    {
      "cell_type": "code",
      "source": [
        "def dirichlet(value, type, u, x, y, t, c_2, res):\n",
        "    u[y, x,:]=value"
      ],
      "outputs": [],
      "execution_count": null,
      "metadata": {
        "collapsed": true,
        "jupyter": {
          "source_hidden": false,
          "outputs_hidden": false
        },
        "nteract": {
          "transient": {
            "deleting": false
          }
        }
      }
    },
    {
      "cell_type": "markdown",
      "source": [
        "---\n",
        "For Neumann's boundary condition we have the value of first derivative at the boundaries. The function takes:\n",
        "- the value of the temperature at the boundary,\n",
        "- type of analysis to be performed (`steady` or `transient` [these are keywords]),\n",
        "- the dataset (a 3D array-like in the indexing order `arr[y][x][t]`),\n",
        "- the x co-ordinate of the grid point in consideration,\n",
        "- the y co-ordinate of the grid point in consideration,\n",
        "- the t co-ordinate of the grid point in consideration,\n",
        "- the value of $c^2$ as appears in the original differential equation at the top of this documentation,\n",
        "- resolution (a 1 $\\times$ 3 array-like where each number is the number of computational sub-intervals to add for unit physical length of the system along the corresponding dimension in the sequence x, y, t)."
      ],
      "metadata": {
        "nteract": {
          "transient": {
            "deleting": false
          }
        }
      }
    },
    {
      "cell_type": "code",
      "source": [
        "def neumann(value, type, u, x, y, t, c_2, res):\n",
        "    ev=edge(u, x,y)\n",
        "    cv=corner(u, x,y)\n",
        "    if (ev==0 and cv==-1):\n",
        "        type(u, x, y, t, c_2, res, xp=u[y][x+1][t], xm=u[y][x-1][t],\n",
        "        ym=u[y-1][x][t], yp=u[y-1][x][t]+2*res[0]**-1*value)\n",
        "    elif(ev==0 and cv==0):\n",
        "        type(u, x, y, t, c_2, res, yp=u[y-1][x][t]+2*res[0]**-1*value,\n",
        "        xp=u[y][x-1][t]+2*res[1]**-1*value, xm=u[y][x-1][t], ym=u[y-1][x][t])\n",
        "    elif (ev==1 and cv==-1):\n",
        "        type(u, x, y, t, c_2, res, xp=u[y][x-1][t]+2*res[1]**-1*value,\n",
        "        xm=u[y][x-1][t], yp=u[y+1][x][t], ym=u[y-1][x][t])\n",
        "    elif (ev==1 and cv==1):\n",
        "        type(u, x, y, t, c_2, res, xp=u[y][x-1][t]+2*res[1]**-1*value,\n",
        "        ym=u[y+1][x][t]-2*res[0]**-1*value, xm=u[y][x-1][t], yp=u[y+1][x][t])\n",
        "    elif (ev==2 and cv==-1):\n",
        "        type(u, x, y, t, c_2, res, ym=u[y+1][x][t]-2*res[0]**-1*value,\n",
        "        xp=u[y][x+1][t], xm=u[y][x-1][t], yp=u[y+1][x][t])\n",
        "    elif (ev==2 and cv==2):\n",
        "        type(u, x, y, t, c_2, res, ym=u[y+1][x][t]-2*res[0]**-1*value,\n",
        "        xm=u[y][x+1][t]-2*res[1]**-1*value, xp=u[y][x+1][t], yp=u[y+1][x][t])\n",
        "    elif (ev==3 and cv==-1):\n",
        "        type(u, x, y, t, c_2, res, xm=u[y][x+1][t]-2*res[1]**-1*value,\n",
        "        xp=u[y][x+1][t], yp=u[y+1][x][t], ym=u[y-1][x][t])\n",
        "    elif (ev==3 and cv==3):\n",
        "        type(u, x, y, t, c_2, res, xm=u[y][x+1][t]-2*res[1]**-1*value,\n",
        "        yp=u[y-1][x][t]+2*res[0]**-1*value, xp=u[y][x+1][t], ym=u[y-1][x][t])"
      ],
      "outputs": [],
      "execution_count": null,
      "metadata": {
        "collapsed": true,
        "jupyter": {
          "source_hidden": false,
          "outputs_hidden": false
        },
        "nteract": {
          "transient": {
            "deleting": false
          }
        }
      }
    },
    {
      "cell_type": "markdown",
      "source": [
        "---\n",
        "\n",
        "---\n",
        "### Now let's create functions to represent the equations.\n",
        "\n",
        "First the function to represent the steady state equation.\n",
        "\n",
        "$u(x,y,t)=\\dfrac{1}{4}(u(x+\\Delta x, y, t)+u(x-\\Delta x,y,t)+u(x,y+\\Delta y,t)+u(x, y-\\Delta y, t))$\n",
        "\n",
        "The function takes:\n",
        "- the dataset (a 3D array-like in the indexing order `arr[y][x][t]`),\n",
        "- the x co-ordinate of the grid point in consideration,\n",
        "- the y co-ordinate of the grid point in consideration,\n",
        "- the t co-ordinate of the grid point in consideration,\n",
        "- the value of $c^2$ as appears in the original differential equation at the top of this documentation,\n",
        "- resolution (a 1 $\\times$ 3 array-like where each number is the number of computational sub-intervals to add for unit physical length of the system along the corresponding dimension in the sequence x, y, t),\n",
        "- the value of the $u(x+\\Delta x, y, t)$,\n",
        "- the value of the $u(x-\\Delta x, y, t)$,\n",
        "- the value of the $u(x, y+\\Delta y, t)$,\n",
        "- the value of the $u(x, y-\\Delta y, t)$."
      ],
      "metadata": {
        "nteract": {
          "transient": {
            "deleting": false
          }
        }
      }
    },
    {
      "cell_type": "code",
      "source": [
        "def steady(u, x, y, t, c_2, res, xp, xm, yp, ym):\n",
        "        u[y][x][t+1]=(1/4)*(yp+ym+xp+xm)"
      ],
      "outputs": [],
      "execution_count": null,
      "metadata": {
        "collapsed": true,
        "jupyter": {
          "source_hidden": false,
          "outputs_hidden": false
        },
        "nteract": {
          "transient": {
            "deleting": false
          }
        }
      }
    },
    {
      "cell_type": "markdown",
      "source": [
        "---\n",
        "The function to represent the transient state equation:\n",
        "\n",
        "$u(x,y,t+\\Delta t)=u(x,y,t)+\\dfrac{\\Delta t.c^2}{(\\Delta x\\Delta y)^2}((\\Delta y)^2(u(x+\\Delta x, y, t)+u(x-\\Delta x,y,t)-2u(x,y,t))+(\\Delta x)^2(u(x,y+\\Delta y,t)+u(x, y-\\Delta y, t)-2u(x,y,t)))$\n",
        "\n",
        "The function takes:\n",
        "- the dataset (a 3D array-like in the indexing order `arr[y][x][t]`),\n",
        "- the x co-ordinate of the grid point in consideration,\n",
        "- the y co-ordinate of the grid point in consideration,\n",
        "- the t co-ordinate of the grid point in consideration,\n",
        "- the value of $c^2$ as appears in the original differential equation at the top of this documentation,\n",
        "- resolution (a 1 $\\times$ 3 array-like where each number is the number of computational sub-intervals to add for unit physical length of the system along the corresponding dimension in the sequence x, y, t),\n",
        "- the value of the $u(x+\\Delta x, y, t)$,\n",
        "- the value of the $u(x-\\Delta x, y, t)$,\n",
        "- the value of the $u(x, y+\\Delta y, t)$,\n",
        "- the value of the $u(x, y-\\Delta y, t)$."
      ],
      "metadata": {
        "nteract": {
          "transient": {
            "deleting": false
          }
        }
      }
    },
    {
      "cell_type": "code",
      "source": [
        "def transient(u, x, y, t, c_2, res, xp, xm, yp, ym):\n",
        "        u[y][x][t+1]=u[y][x][t]+(res[2]**-1*c_2*(res[1]*res[0])**2)*\n",
        "        (res[0]**-2*(xp+xm-2*u[y][x][t])+res[1]**-2*(yp+ym-2*u[y][x][t]))"
      ],
      "outputs": [],
      "execution_count": null,
      "metadata": {
        "collapsed": true,
        "jupyter": {
          "source_hidden": false,
          "outputs_hidden": false
        },
        "nteract": {
          "transient": {
            "deleting": false
          }
        }
      }
    },
    {
      "cell_type": "markdown",
      "source": [
        "---\n",
        "\n",
        "---\n",
        "### Now we come to our main code.\n",
        "\n",
        "We set data to represent the system and and other analysis parameters. And call the `analyze()` function with all the requisite arguments (see the definition of `analyze()` for more information)."
      ],
      "metadata": {
        "nteract": {
          "transient": {
            "deleting": false
          }
        }
      }
    },
    {
      "cell_type": "code",
      "source": [
        "system=[5,3]\n",
        "res=[10,10]\n",
        "time=60\n",
        "time_res=4\n",
        "c_2=0.005\n",
        "acc=.01\n",
        "bound=[[dirichlet, 500], [dirichlet, 700], [dirichlet, 800], [dirichlet, 600]]\n",
        "analysis=transient\n",
        "name=\"dirichlet_transient.gif\"\n",
        "inv=50\n",
        "analyze(bound, analysis, system, res, t=time, tres=time_res, accuracy=acc,\n",
        "            c=c_2, name=name, interval=inv)"
      ],
      "outputs": [],
      "execution_count": null,
      "metadata": {
        "collapsed": true,
        "jupyter": {
          "source_hidden": false,
          "outputs_hidden": false
        },
        "nteract": {
          "transient": {
            "deleting": false
          }
        }
      }
    },
    {
      "cell_type": "markdown",
      "source": [
        "---\n",
        "\n",
        "---\n",
        "## Next up some results.\n",
        "\n",
        "- system : $0<x<5,\\ 0<y<3$\n",
        "\n",
        "  boundary :\n",
        "\n",
        "      - top : isothermal, 500\n",
        "\n",
        "      - right : isothermal, 700\n",
        "\n",
        "      - bottom : isothermal, 800\n",
        "\n",
        "      - left : isothermal, 600\n",
        "\n",
        "  accuracy : 0.01\n",
        "\n",
        "  Output\n",
        "\n",
        "  ![5, 3, steady-state, 500, 700, 800, 600 : 0.01](https://raw.githubusercontent.com/quantum-corn/assignment_1/master/dirichlet_steady.svg)\n",
        "\n",
        "- system : $0<x<5,\\ 0<y<3$\n",
        "\n",
        "  boundary :\n",
        "\n",
        "      - top : adiabatic, 10\n",
        "\n",
        "      - right : isothermal, 400\n",
        "\n",
        "      - bottom : adiabatic, 10\n",
        "\n",
        "      - left : isothermal, 800\n",
        "\n",
        "  resolution :\n",
        "\n",
        "      - x : 20\n",
        "\n",
        "      - y : 20\n",
        "\n",
        "  accuracy : 0.01\n",
        "\n",
        "  Output\n",
        "\n",
        "  ![5, 3, 20x20x, steady-state, 10, 400, 10, 800 : 0.01](https://raw.githubusercontent.com/quantum-corn/assignment_1/master/neumann_steady.svg)\n",
        "\n",
        "- system : $0<x<5,\\ 0<y<3, 0<t<60$\n",
        "\n",
        "  boundary :\n",
        "\n",
        "      - top : isothermal, 500\n",
        "\n",
        "      - right : isothermal, 700\n",
        "\n",
        "      - bottom : isothermal, 800\n",
        "\n",
        "      - left : isothermal, 600\n",
        "\n",
        "  resolution :\n",
        "\n",
        "      - x : 20\n",
        "\n",
        "      - y : 20\n",
        "\n",
        "      - t : 4\n",
        "\n",
        "  $c^2$ : 0.005\n",
        "\n",
        "  ![Output](https://raw.githubusercontent.com/quantum-corn/assignment_1/master/dirichlet_transient.gif)\n",
        "\n",
        "- system : $0<x<5,\\ 0<y<3, 0<t<60$\n",
        "\n",
        "  boundary :\n",
        "\n",
        "      - top : adiabatic, 10\n",
        "\n",
        "      - right : isothermal, 400\n",
        "\n",
        "      - bottom : adiabatic, 10\n",
        "\n",
        "      - left : isothermal, 800\n",
        "\n",
        "  resolution :\n",
        "\n",
        "      - x : 20\n",
        "\n",
        "      - y : 20\n",
        "\n",
        "      - t : 4\n",
        "\n",
        "  $c^2$ : 0.005\n",
        "\n",
        "  ![Output](https://raw.githubusercontent.com/quantum-corn/assignment_1/master/neumann_transient.gif)"
      ],
      "metadata": {
        "nteract": {
          "transient": {
            "deleting": false
          }
        }
      }
    }
  ],
  "metadata": {},
  "nbformat": 4,
  "nbformat_minor": 0
}
